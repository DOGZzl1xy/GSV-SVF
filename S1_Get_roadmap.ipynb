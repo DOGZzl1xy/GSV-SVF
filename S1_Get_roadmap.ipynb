{
 "cells": [
  {
   "cell_type": "markdown",
   "metadata": {},
   "source": [
    "Step 1 \\\n",
    "Using the following method to download road map and boundary from OpenStreetMap, using overpass turbo"
   ]
  },
  {
   "cell_type": "markdown",
   "metadata": {},
   "source": [
    "| 城市, 州          | Relation ID | 城市, 州           | Relation ID | 城市, 州            | Relation ID |\n",
    "|-------------------|-------------|--------------------|-------------|---------------------|-------------|\n",
    "| Atlanta, GA       | 130900      | Boston, MA         | 155050      | Charlotte, NC       | 177379      |\n",
    "| Chicago, IL       | 122604      | Denver, CO         | 111112      | Dallas, TX          | 113360      |\n",
    "| Detroit, MI       | 156140      | Houston, TX        | 2697526     | Los Angeles, CA     | 207359      |\n",
    "| Miami, FL         | 125894      | Minneapolis, MN    | 160203      | New York City, NY   | 175905      |\n",
    "| Philadelphia, PA  | 188022      | Phoenix, AZ        | 2305551     | Raleigh, NC         | 178288      |\n",
    "| Riverside, CA     | 207659      | San Diego, CA      | 207703      | San Francisco, CA   | 111968      |\n",
    "| Seattle, WA       | 190064      | Tampa, FL          | 127652      | St. Louis, MO       | 2195335     |\n",
    "| Washington D.C.   | 1658055     |                    |             |                     |             |"
   ]
  },
  {
   "cell_type": "code",
   "execution_count": null,
   "metadata": {},
   "outputs": [],
   "source": [
    "relation_id = \"111968\"  # Relation ID\n",
    "city_name = \"San_Francisco\" # city_name\n"
   ]
  },
  {
   "cell_type": "code",
   "execution_count": null,
   "metadata": {},
   "outputs": [
    {
     "name": "stdout",
     "output_type": "stream",
     "text": [
      "正在查询 San_Francisco (Relation ID: 111968) 的道路数据...\n",
      "raw JSON data has been saved as San_Francisco_roads.json\n",
      "Road data has been saved as GeoJSON：San_Francisco_roads.geojson\n"
     ]
    }
   ],
   "source": [
    "import requests\n",
    "import json\n",
    "import geopandas as gpd\n",
    "from shapely.geometry import LineString \n",
    "\n",
    "\n",
    "url = \"https://overpass-api.de/api/interpreter\"\n",
    "\n",
    "query = f\"\"\"\n",
    "[out:json][timeout:120]; \n",
    "rel({relation_id});\n",
    "map_to_area->.search_area;\n",
    "(\n",
    "  way[\"highway\"](area.search_area);\n",
    ");\n",
    "out body; \n",
    ">;       \n",
    "out skel qt; \n",
    "\"\"\"\n",
    "\n",
    "print(f\"正在查询 {city_name} (Relation ID: {relation_id}) 的道路数据...\")\n",
    "response = requests.get(url, params={\"data\": query}) \n",
    "\n",
    "if response.status_code == 200:\n",
    "    data = response.json()\n",
    "\n",
    "    # 1. save raw JSON data\n",
    "    filename_json = f\"{city_name}_roads.json\"\n",
    "    with open(filename_json, \"w\", encoding=\"utf-8\") as f:\n",
    "        json.dump(data, f, ensure_ascii=False, indent=4)\n",
    "    print(f\"raw JSON data has been saved as {filename_json}\")\n",
    "\n",
    "    # 2. analysis node data\n",
    "    node_dict = {node[\"id\"]: (node[\"lon\"], node[\"lat\"]) for node in data[\"elements\"] if node[\"type\"] == \"node\"}\n",
    "\n",
    "    # 3. analysis road data and convert to GeoDataFrame\n",
    "    roads = []\n",
    "    for element in data[\"elements\"]:\n",
    "        if element[\"type\"] == \"way\" and \"nodes\" in element:\n",
    "            coords = [node_dict[node_id] for node_id in element[\"nodes\"] if node_id in node_dict]\n",
    "            if coords:\n",
    "                roads.append(LineString(coords))\n",
    "\n",
    "    # 4. creat GeoDataFrame\n",
    "    gdf = gpd.GeoDataFrame(geometry=roads, crs=\"EPSG:4326\")\n",
    "\n",
    "    # 5. save road data as GeoJSON\n",
    "    filename_geojson = f\"{city_name}_roads.geojson\"\n",
    "    gdf.to_file(filename_geojson, driver=\"GeoJSON\")\n",
    "    print(f\"Road data has been saved as GeoJSON：{filename_geojson}\")\n",
    "\n",
    "else:\n",
    "    print(f\"Fail to request, status code：{response.status_code}\")\n"
   ]
  },
  {
   "cell_type": "code",
   "execution_count": null,
   "metadata": {},
   "outputs": [
    {
     "name": "stdout",
     "output_type": "stream",
     "text": [
      "正在查询 San_Francisco (Relation ID: 111968) 的边界数据...\n"
     ]
    }
   ],
   "source": [
    "import requests\n",
    "import json\n",
    "import osm2geojson\n",
    "# Overpass API 的 URL\n",
    "overpass_url = \"https://overpass-api.de/api/interpreter\"\n",
    "\n",
    "# Overpass QL 查询语句\n",
    "\n",
    "overpass_query = f\"\"\"\n",
    "[out:json][timeout:60];  \n",
    "rel({relation_id});\n",
    "out geom;\n",
    "\"\"\"\n",
    "\n",
    "print(f\"正在查询 {city_name} (Relation ID: {relation_id}) 的边界数据...\")\n",
    "\n",
    "response = requests.post(overpass_url, data={'data': overpass_query})\n",
    "response.raise_for_status()  \n",
    "\n",
    "data = response.json()\n",
    "geojson = osm2geojson.json2geojson(data)\n",
    "output_filename = f\"{city_name.lower()}_boundary.geojson\"\n",
    "with open(output_filename, \"w\", encoding=\"utf-8\") as f:\n",
    "    json.dump(geojson, f, ensure_ascii=False, indent=2)\n",
    "    \n",
    "print(f\"边界数据已保存为 GeoJSON：{output_filename}\")\n"
   ]
  },
  {
   "cell_type": "markdown",
   "metadata": {},
   "source": [
    "## PLEASE UPLOAD YOUR OSM ROAD AND BOUNDARY TO GOOGLE DRIVE!\n",
    "## You can tranfer Geojson to Esri shapefile in QGIS"
   ]
  },
  {
   "cell_type": "markdown",
   "metadata": {},
   "source": [
    "# Step 2\n",
    "1. Using QGIS to convert Geojson to Esri shp(ignore it if you already have .SHP file)\n",
    "2. open the shapefile in Esri ArcGIS Pro\n",
    "3. Using 'Densify' tool in edit mode\n",
    "4. Using 'Feature Vectices to Points' tool to convert line to point\n",
    "5. Using 'Calculate Geometry Attributes' to calculate Lon and Lat\n",
    "6. Export as YOUR CSV INPUT PATH.csv file"
   ]
  },
  {
   "cell_type": "markdown",
   "metadata": {},
   "source": [
    "# Requirement and Output: \n",
    "What you should have after 2:\n",
    "1. 'YOUR CSV INPUT PATH.csv' file from Step 2. It should store dot and its attribute \n",
    "\n",
    "What you should have after 2.1\n",
    "1. 'YOUR_OWN_CITY_NAME_road_path_index.csv' that only stores dot's index, lon, lat\n",
    "\n",
    "What you should have after 2.2\n",
    "1. 'YOUR_OWN_CITY_NAME_panorama_id.csv', that stores PID, this is what you need for File S2\n"
   ]
  },
  {
   "cell_type": "code",
   "execution_count": null,
   "metadata": {},
   "outputs": [],
   "source": [
    "# 2.1 Extract lon and lat for PID\n",
    "import pandas as pd\n",
    "\n",
    "file_path = r'YOUR CSV INPUT PATH.csv' # replace this line with your own input csv path from QGIS/ArcGIS\n",
    "\n",
    "try:\n",
    "    df = pd.read_csv(file_path, usecols=[ 'Lon', 'Lat']) #Replace the name for your own csv file, lon and lat respectively\n",
    "    print(df.head())  \n",
    "except ValueError as e:\n",
    "    print(f\"error in reading：{e}\")\n",
    "except FileNotFoundError:\n",
    "    print(f\"Cannot find file：{file_path}\")\n",
    "except Exception as e:\n",
    "    print(f\"Incidence：{e}\")\n",
    "    \n",
    "df.reset_index(inplace=True)\n",
    "print(df.head(5))\n",
    "\n",
    "df.to_csv(r'YOUR_OWN_CITY_NAME_road_path_index.csv', index=False) #replace this line with your own csv output path, this path should be the same as 2.2"
   ]
  },
  {
   "cell_type": "markdown",
   "metadata": {},
   "source": [
    "At this time, you should check your data structure of 'YOUR_OWN_CITY_NAME_road_path_index.csv', which should have 3 columns\n",
    "| index | lon | lat|\n",
    "|---|---|---|\n",
    "|index by ArcGIS/QGIS| Longitude| Latitude|\n"
   ]
  },
  {
   "cell_type": "code",
   "execution_count": null,
   "metadata": {},
   "outputs": [],
   "source": [
    "# 2.2 Search panorama ID using streetview API, RUN THE FOLLOWING CODE IN 2.2 TOGATHER\n",
    "# Source code of this part is from https://github.com/ShengaoYi/Google-StreetView-Downloader\n",
    "from streetview import search_panoramas\n",
    "import os\n",
    "\n",
    "path = r'YOUR_OWN_CITY_NAME_road_path_index.csv' #This path should be the smae as the output path in 2.1\n",
    "\n",
    "fw = open(r'YOUR_OWN_CITY_NAME_panorama_id.csv', 'a', encoding='utf-8') #replace YOUR_OWN_CITY_NAME with your own city's name, for example, 'San_Francisco' will be 'SF_panorama_id.csv'. This will be the FINAL OUTPUT FILE\n",
    "fw.write('pid,lat,lon,heading,pitch,roll,year,month\\n')\n",
    "\n",
    "# check_already\n",
    "# This is a middle file to check if the panorama ID has been downloaded before\n",
    "if not os.path.exists('YOUR_OWN_CITY_NAME_pid_got.csv'):\t#replace YOUR_OWN_CITY_NAME with your own city's name, for example, 'San_Francisco' will be 'SF_pid_got.csv'\n",
    "    open('YOUR_OWN_CITY_NAME_pid_got.csv', 'w', encoding='utf-8').close()\t#replace YOUR_OWN_CITY_NAME with your own city's name, for example, 'San_Francisco' will be 'SF_pid_got.csv'\n",
    "ALL_ID = []\n",
    "\n",
    "# To prevent duplicate downloads\n",
    "with open('YOUR_OWN_CITY_NAME_pid_got.csv', 'r', encoding='utf-8') as f:\t#replace YOUR_OWN_CITY_NAME with your own city's name, for example, 'San_Francisco' will be 'SF_pid_got.csv'\n",
    "  for line in f:\n",
    "    ALL_ID.append(line.strip().split(\".\")[0])\n",
    "\n",
    "\n",
    "ALL_DATA = []\n",
    "\n",
    "n = 0\n",
    "\n",
    "with open(path, 'r') as f:\n",
    "    next(f)\n",
    "    for line in f:\n",
    "        n += 1\n",
    "        print(n)\n",
    "        line_arr = line.strip().split(',')\n",
    "        xy = [float(line_arr[1]), float(line_arr[2])]\n",
    "        panoids = search_panoramas(xy[1], xy[0])\n",
    "        \n",
    "        for panoid in panoids:\n",
    "            try:\n",
    "                xy = [panoid.lon, panoid.lat]\n",
    "                lat = panoid.lat\n",
    "                lon = panoid.lon\n",
    "                pid = panoid.pano_id\n",
    "                heading = panoid.heading\n",
    "                pitch = panoid.pitch\n",
    "                roll = panoid.roll\n",
    "                date = panoid.date\n",
    "                if pid in ALL_ID:\n",
    "                    continue\n",
    "                else:\n",
    "                    ALL_ID.append(pid)\n",
    "                    try:\n",
    "                        year = date.split('-')[0]\n",
    "                        month = date.split('-')[1]\n",
    "                    except:\n",
    "                        year = \"None\"\n",
    "                        month = \"None\"\n",
    "                    fw.write('%s,%s,%s,%s,%s,%s,%s,%s\\n' % (pid, lat, lon, heading, pitch, roll, year, month))\n",
    "                    fw2 = open('SF_pid_got.csv', 'a', encoding='utf-8')\n",
    "                    fw2.write(pid + '\\n')\n",
    "\n",
    "            except:\n",
    "                print('error')\n",
    "                continue"
   ]
  },
  {
   "cell_type": "code",
   "execution_count": null,
   "metadata": {},
   "outputs": [],
   "source": [
    "# 2.2 Search panorama ID using streetview API, RUN THE ABOVE CODE IN 2.2 TOGATHER\n",
    "from streetview import search_panoramas\n",
    "import os\n",
    "import requests \n",
    "\n",
    "path = r'YOUR_OWN_CITY_NAME_road_path_index.csv'\t# This path should be the same as the output path in 2.1\n",
    "\n",
    "fw = open(r'YOUR_OWN_CITY_NAME_panorama_id.csv', 'a', encoding='utf-8')\t# replace YOUR_OWN_CITY_NAME with your own city's name, for example, 'San_Francisco' will be 'SF_panorama_id.csv'\n",
    "\n",
    "if not os.path.exists('YOUR_OWN_CITY_NAME_panorama_id.csv'):\t# replace YOUR_OWN_CITY_NAME with your own city's name, for example, 'San_Francisco' will be 'SF_panorama_id.csv'\n",
    "    open('YOUR_OWN_CITY_NAME_panorama_id.csv', 'w', encoding='utf-8').close()\t# replace YOUR_OWN_CITY_NAME with your own city's name, for example, 'San_Francisco' will be 'SF_panorama_id.csv'\n",
    "\n",
    "ALL_ID = []\n",
    "with open('YOUR_OWN_CITY_NAME_panorama_id.csv', 'r', encoding='utf-8') as f:\t# replace YOUR_OWN_CITY_NAME with your own city's name, for example, 'San_Francisco' will be 'SF_panorama_id.csv'\n",
    "    for line in f:\n",
    "        ALL_ID.append(line.strip().split(\".\")[0])\n",
    "\n",
    "start_line = 0  # Change ID if you want to continue downloading\n",
    "\n",
    "with open(path, 'r', encoding='utf-8') as f:\n",
    "    header = next(f)  \n",
    "    for line_num, line in enumerate(f, start=2):\n",
    "        if line_num < start_line:\n",
    "            continue\n",
    "\n",
    "        print(f\"Processing line {line_num} ...\")\n",
    "        line_arr = line.strip().split(',')\n",
    "        xy = [float(line_arr[1]), float(line_arr[2])]  # [lon, lat]\n",
    "\n",
    "        \n",
    "        try:\n",
    "            panoids = search_panoramas(xy[1], xy[0])\n",
    "        except (requests.exceptions.ConnectionError, ConnectionResetError) as e:\n",
    "            print(f\"Network error at line {line_num}, skipping this row. Error: {e}\")\n",
    "            continue\n",
    "\n",
    "        except Exception as e:\n",
    "            print(f\"Other error at line {line_num}, skipping. Error: {e}\")\n",
    "            continue\n",
    "\n",
    "        for panoid in panoids:\n",
    "            try:\n",
    "                lat = panoid.lat\n",
    "                lon = panoid.lon\n",
    "                pid = panoid.pano_id\n",
    "                heading = panoid.heading\n",
    "                pitch = panoid.pitch\n",
    "                roll = panoid.roll\n",
    "                date = panoid.date\n",
    "\n",
    "                if pid in ALL_ID:\n",
    "                    continue\n",
    "                ALL_ID.append(pid)\n",
    "\n",
    "                try:\n",
    "                    year, month = date.split('-')\n",
    "                except:\n",
    "                    year, month = \"None\", \"None\"\n",
    "\n",
    "                fw.write(f\"{pid},{lat},{lon},{heading},{pitch},{roll},{year},{month}\\n\")\n",
    "                with open('SF_pid_got.csv', 'a', encoding='utf-8') as fw2:\n",
    "                    fw2.write(pid + '\\n')\n",
    "\n",
    "            except Exception as e:\n",
    "                print(f\"Error on panoid {panoid}: {e}\")\n",
    "                continue\n",
    "\n",
    "fw.close()\n",
    "print(\"Done!\")\n"
   ]
  },
  {
   "cell_type": "markdown",
   "metadata": {},
   "source": [
    "At this time, you should check your data structure of 'YOUR_OWN_CITY_NAME_panorama_id.csv'\n",
    "| pid | lat | lon | heading | pitch | roll | year | month |\n",
    "|---|---|---|---|---|---|---|---|\n"
   ]
  },
  {
   "cell_type": "markdown",
   "metadata": {},
   "source": [
    "# Now you can move to S1a\n",
    "with 'YOUR_OWN_CITY_NAME_panorama_id.csv' to select pids"
   ]
  }
 ],
 "metadata": {
  "kernelspec": {
   "display_name": "DEEPLABV3",
   "language": "python",
   "name": "python3"
  },
  "language_info": {
   "codemirror_mode": {
    "name": "ipython",
    "version": 3
   },
   "file_extension": ".py",
   "mimetype": "text/x-python",
   "name": "python",
   "nbconvert_exporter": "python",
   "pygments_lexer": "ipython3",
   "version": "3.11.11"
  }
 },
 "nbformat": 4,
 "nbformat_minor": 2
}
